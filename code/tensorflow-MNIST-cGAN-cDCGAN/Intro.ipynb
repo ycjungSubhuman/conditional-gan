{
 "cells": [
  {
   "cell_type": "markdown",
   "metadata": {},
   "source": [
    "# Models\n",
    "You can download pre-trained models from https://mega.nz/#F!OzgwHL5S\n",
    "\n",
    "# Monitoring\n",
    "\n",
    "Connect http://localhost:6006/ for tensorboard monitoring. If you are reading this through the docker image provided with this, it is already running so check it out!\n",
    "\n",
    "# Run Codes Yourself\n",
    "\n",
    "If you want to use pre-trained model, unzip the model and put each folder to `../../checkpoints/`"
   ]
  },
  {
   "cell_type": "markdown",
   "metadata": {},
   "source": [
    "## cGAN for MNIST\n",
    "![image](examples/mnist-cgan.png)"
   ]
  },
  {
   "cell_type": "code",
   "execution_count": null,
   "metadata": {},
   "outputs": [],
   "source": [
    "%run -i 'tensorflow_MNIST_cGAN.py' cgan-fid-every-epoch"
   ]
  },
  {
   "cell_type": "markdown",
   "metadata": {},
   "source": [
    "## cDCGAN for MNIST\n",
    "![image](examples/mnist-cdcgan.png)"
   ]
  },
  {
   "cell_type": "code",
   "execution_count": null,
   "metadata": {},
   "outputs": [],
   "source": [
    "%run -i 'tensorflow_MNIST_cDCGAN.py' cdcgan-mnist-base2"
   ]
  },
  {
   "cell_type": "markdown",
   "metadata": {},
   "source": [
    "## cDCGAN for CelebA\n",
    "\n",
    "### Prerequisite\n",
    "\n",
    "Before running this code,\n",
    "\n",
    "* Download CelebA dataset.\n",
    "* Unzip and put all .jpg in `../../dataset/CelebA/Img/img_align_celeba/`\n",
    "* Downlaod `list_attr_celeba.txt` and put it in `../../dataset/CelebA/`\n",
    "* Run `tools/celeba_resize.py`\n",
    "\n",
    "![image](examples/celebA-cdcgan.png)"
   ]
  },
  {
   "cell_type": "code",
   "execution_count": null,
   "metadata": {},
   "outputs": [],
   "source": [
    "%run -i 'tensorflow_CelebA_cDCGAN.py' cdcgan-celebA-fid-every-epoch"
   ]
  }
 ],
 "metadata": {
  "kernelspec": {
   "display_name": "Python 3",
   "language": "python",
   "name": "python3"
  },
  "language_info": {
   "codemirror_mode": {
    "name": "ipython",
    "version": 3
   },
   "file_extension": ".py",
   "mimetype": "text/x-python",
   "name": "python",
   "nbconvert_exporter": "python",
   "pygments_lexer": "ipython3",
   "version": "3.5.2"
  }
 },
 "nbformat": 4,
 "nbformat_minor": 2
}
